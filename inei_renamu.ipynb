{
 "cells": [
  {
   "cell_type": "code",
   "execution_count": 13,
   "metadata": {},
   "outputs": [],
   "source": [
    "#Script para acceder a la Encuesta del INEI - Perú\n",
    "#Registro Nacional de Municipalidades - RENAMU\n",
    "\n",
    "from urllib.request import urlopen\n",
    "from zipfile import ZipFile\n",
    "\n",
    "zipurl= \"http://iinei.inei.gob.pe/iinei/srienaho/descarga/DBF/656-Modulo1482.zip\"\n",
    "zipresp= urlopen(zipurl)\n",
    "tempzip = open(\"C:\\\\Users\\\\Intel\\\\tempfile.zip\", \"wb\")\n",
    "tempzip.write(zipresp.read())\n",
    "tempzip.close()\n",
    "zf = ZipFile(\"C:\\\\Users\\\\Intel\\\\tempfile.zip\")\n",
    "zf.extractall(path = 'C:\\\\Users\\\\Intel\\\\Documents\\\\Mis documentos IDEA\\\\Samples\\\\Archivos fuente.ILB')\n",
    "zf.close()\n",
    "\n",
    "zipurl= \"http://iinei.inei.gob.pe/iinei/srienaho/descarga/DBF/656-Modulo1483.zip\"\n",
    "zipresp= urlopen(zipurl)\n",
    "tempzip = open(\"C:\\\\Users\\\\Intel\\\\tempfile.zip\", \"wb\")\n",
    "tempzip.write(zipresp.read())\n",
    "tempzip.close()\n",
    "zf = ZipFile(\"C:\\\\Users\\\\Intel\\\\tempfile.zip\")\n",
    "zf.extractall(path = 'C:\\\\Users\\\\Intel\\\\Documents\\\\Mis documentos IDEA\\\\Samples\\\\Archivos fuente.ILB')\n",
    "zf.close()\n",
    "\n",
    "zipurl= \"http://iinei.inei.gob.pe/iinei/srienaho/descarga/DBF/656-Modulo1484.zip\"\n",
    "zipresp= urlopen(zipurl)\n",
    "tempzip = open(\"C:\\\\Users\\\\Intel\\\\tempfile.zip\", \"wb\")\n",
    "tempzip.write(zipresp.read())\n",
    "tempzip.close()\n",
    "zf = ZipFile(\"C:\\\\Users\\\\Intel\\\\tempfile.zip\")\n",
    "zf.extractall(path = 'C:\\\\Users\\\\Intel\\\\Documents\\\\Mis documentos IDEA\\\\Samples\\\\Archivos fuente.ILB')\n",
    "zf.close()\n",
    "\n",
    "zipurl= \"http://iinei.inei.gob.pe/iinei/srienaho/descarga/DBF/656-Modulo1485.zip\"\n",
    "zipresp= urlopen(zipurl)\n",
    "tempzip = open(\"C:\\\\Users\\\\Intel\\\\tempfile.zip\", \"wb\")\n",
    "tempzip.write(zipresp.read())\n",
    "tempzip.close()\n",
    "zf = ZipFile(\"C:\\\\Users\\\\Intel\\\\tempfile.zip\")\n",
    "zf.extractall(path = 'C:\\\\Users\\\\Intel\\\\Documents\\\\Mis documentos IDEA\\\\Samples\\\\Archivos fuente.ILB')\n",
    "zf.close()\n",
    "\n",
    "zipurl= \"http://iinei.inei.gob.pe/iinei/srienaho/descarga/DBF/656-Modulo1486.zip\"\n",
    "zipresp= urlopen(zipurl)\n",
    "tempzip = open(\"C:\\\\Users\\\\Intel\\\\tempfile.zip\", \"wb\")\n",
    "tempzip.write(zipresp.read())\n",
    "tempzip.close()\n",
    "zf = ZipFile(\"C:\\\\Users\\\\Intel\\\\tempfile.zip\")\n",
    "zf.extractall(path = 'C:\\\\Users\\\\Intel\\\\Documents\\\\Mis documentos IDEA\\\\Samples\\\\Archivos fuente.ILB')\n",
    "zf.close()\n"
   ]
  },
  {
   "cell_type": "code",
   "execution_count": null,
   "metadata": {},
   "outputs": [],
   "source": []
  }
 ],
 "metadata": {
  "kernelspec": {
   "display_name": "Python 3",
   "language": "python",
   "name": "python3"
  },
  "language_info": {
   "codemirror_mode": {
    "name": "ipython",
    "version": 3
   },
   "file_extension": ".py",
   "mimetype": "text/x-python",
   "name": "python",
   "nbconvert_exporter": "python",
   "pygments_lexer": "ipython3",
   "version": "3.7.6"
  }
 },
 "nbformat": 4,
 "nbformat_minor": 4
}
